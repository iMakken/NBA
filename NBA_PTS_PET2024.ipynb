{
 "cells": [
  {
   "cell_type": "code",
   "execution_count": 57,
   "id": "c6fdb34b",
   "metadata": {},
   "outputs": [],
   "source": [
    "import scipy\n",
    "import pandas as pd\n",
    "import numpy as np\n",
    "import glob\n",
    "import statistics\n",
    "from statistics import mean\n",
    "\n",
    "pd.set_option('display.max_columns', 500)\n",
    "\n",
    "import warnings\n",
    "warnings.simplefilter(action='ignore', category=Warning)"
   ]
  },
  {
   "cell_type": "markdown",
   "id": "22c63e98",
   "metadata": {},
   "source": [
    "# описание папок с файлами и особенностями\n",
    "\n",
    "NBA1947_1981 - файлы по 1 шт на сезон, исключая сезоны объединенной лиги с 1968 по 1976 - ТИП 1\n",
    "\n",
    "ABA1968_1976 - по два файла на сезон из NBA и ABA / считаем среднее по всем матчам - ТИП 2\n",
    "\n",
    "NBA1982 - в файле фигуригуют значения DNP и Do Not Play почти во всех столбцах - ТИП 3\n",
    "\n",
    "NBA1983_1996 - обычные файлы - ТИП 1\n",
    "\n",
    "NBA1997_2023 - очков в 3 раза больше, т.к. начали фиксировать в доп.столбце \"Period\" принадлежность к половине (h1/h2) и к четвертям (q1/q2/q3/q4), поэтому очков суммарно в 3 раза больше - ТИП 4"
   ]
  },
  {
   "cell_type": "code",
   "execution_count": 58,
   "id": "14feed05",
   "metadata": {},
   "outputs": [],
   "source": [
    "# СЧИТАЕМ СРЕДНЕЕ КОЛИЧЕСТВО ОЧКОВ ПО КАЖДОМУ МАТЧУ / для NBA1947_1981\n",
    "\n",
    "total_df = pd.DataFrame(columns=['Year', 'PTS_mean'])       # СОЗДАДИМ ПУСТОЙ ДФ\n",
    "\n",
    "for file in glob.glob('D:/KAGGLE/Datasets/NBA_1947_2024/NBA/boxscores_by_year/NBA1947_1981/*_basic.csv'):  # ЦИКЛ ДЛЯ ВСЕХ ФАЙЛОВ ВНУТРИ ПАПКИ\n",
    "    \n",
    "    my_df = pd.read_csv(file, engine='python')              # СЧИТЫВАЕМ В ПЕРЕМЕННУЮ \n",
    "   \n",
    "    filename = file[77] + file[78] + file[79] + file[80]    # СОЗДАЕМ ПЕРЕМЕННУЮ ИЗ ИМЕНИ ФАЙЛА - НАЗВАНИЕ ГОДА ОКОНЧАНИЯ СЕЗОНА\n",
    "    oppo = my_df.groupby('Game Reference').sum()            # СУММИРУЕМ ОЧКИ, ГРУППИРУЯ ПО КАЖДОМУ МАТЧУ\n",
    "    oppo2 = oppo['PTS'].mean()                              # ИЩЕМ СРЕДНЕЕ ПО СЕЗОНУ\n",
    "    \n",
    "    total_df.loc[len(total_df.index)] = [filename, oppo2]   # СОХРАНЯЕМ В ДФ\n",
    "   \n"
   ]
  },
  {
   "cell_type": "code",
   "execution_count": 80,
   "id": "1817255e",
   "metadata": {},
   "outputs": [],
   "source": [
    "# НАЙДЕМ СРЕДНЕЕ ДЛЯ ГОДОВ С ДВУМЯ ЛИГАМИ 1968 - 1976 - ВРУЧНУЮ МЕНЯЕМ КАЖДЫЙ ГОД, ЧТОБЫ ОБСЧИТЫВАЛ НЕСКОЛЬКО ФАЙЛОВ ОДНОГО ГОДА\n",
    "\n",
    "sum_pts = 0\n",
    "count_game = 0\n",
    "\n",
    "for file in glob.glob('D:/KAGGLE/Datasets/NBA_1947_2024/NBA/boxscores_by_year/ABA1968_1976/*1976_basic.csv'):  \n",
    "  \n",
    "    \n",
    "    my_df = pd.read_csv(file, engine='python')\n",
    "    oppo = my_df.groupby('Game Reference', as_index=False).sum()   # СУММИРУЕМ ОЧКИ ПО КАЖДОМУ МАТЧУ\n",
    "    count_game += oppo.shape[0]                                    # СОХРАНИМ КОЛИЧЕСТВО ИГР В ПЕРЕМЕННУЮ count_game\n",
    "    sum_pts += oppo['PTS'].sum()                                   # СОХРАНИМ КОЛИЧЕСТВО  \n",
    "\n",
    "answer = sum_pts / count_game                                      # НАХОДИМ СРЕДНЕЕ В ДВУХ ЛИГАХ\n",
    "\n",
    "filename = file[77] + file[78] + file[79] + file[80]               # СОЗДАЕМ ПЕРЕМЕННУЮ НАЗВАНИЕ ГОДА ОКОНЧАНИЯ СЕЗОНА\n",
    "\n",
    "total_df.loc[len(total_df.index)] = [filename, answer]             # СОХРАНЯЕМ В ДФ"
   ]
  },
  {
   "cell_type": "code",
   "execution_count": 186,
   "id": "5d5caa89",
   "metadata": {},
   "outputs": [],
   "source": [
    "# НАЙДЕМ СРЕДНЕЕ КОЛИЧЕСТВО ОЧКОВ ТОЛЬКО ДЛЯ 1982 . \n",
    "# ПРЕДЫДУЩИЙ КОД НЕ РАБОТАЕТ ИЗ-ЗА ТОГО ЧТО В СТОЛБЦЕ \"PTS\" есть записи DNP и Did Not Play\n",
    "\n",
    "for file in glob.glob('D:/KAGGLE/Datasets/NBA_1947_2024/NBA/boxscores_by_year/NBA1982/*82_basic.csv'):  \n",
    "    \n",
    "    my_df = pd.read_csv(file, engine='python')\n",
    "    \n",
    "    my_df_short = my_df[['Game Reference', 'PTS']]                           # СОЗДАЕМ ДФ ТОЛЬКО С НУЖНЫМИ ДАННЫМИ\n",
    "    \n",
    "    nonned_df = my_df_short.applymap(lambda x: None if ('DNP') in x else x)  # ЗАПИСЫВАЕМ none если находим текст \"DNP\"\n",
    "    new_df = nonned_df.dropna()                                              # УДАЛЯЕМ СТРОКИ С ПУСТЫМИ ЗНАЧЕНИЯМИ\n",
    "    \n",
    "    nonned_df = new_df.applymap(lambda x: None if ('Play') in x else x)      # АНАЛОГИЧНО с \"PLAY\"\n",
    "    new_df = nonned_df.dropna()\n",
    "    \n",
    "    new_df['PTS'] = new_df['PTS'].astype(int)                                # ДЕЛАЕМ СТОЛБЕЦ ЦЕЛОЧИСЛЕННЫМ\n",
    "        \n",
    "    filename = file[72] + file[73] + file[74] + file[75]                     # СОЗДАЕМ ПЕРЕМЕННУЮ НАЗВАНИЕ ГОДА ОКОНЧАНИЯ СЕЗОНА\n",
    "    \n",
    "    oppo = new_df.groupby('Game Reference', as_index=False).sum()            # СУММИРУЕМ ОЧКИ ПО КАЖДОМУ МАТЧУ\n",
    "    oppo2 = oppo['PTS'].mean()                                               # ИЩЕМ СРЕДНЕЕ ПО СЕЗОНУ\n",
    "    \n",
    "    total_df.loc[len(total_df.index)] = [filename, oppo2]                    # СОХРАНЯЕМ В ДФ\n"
   ]
  },
  {
   "cell_type": "code",
   "execution_count": 190,
   "id": "3dc5b35c",
   "metadata": {},
   "outputs": [],
   "source": [
    "# НАЙДЕМ СРЕДНЕЕ КОЛИЧЕСТВО ОЧКОВ ДЛЯ ФАЙЛОВ папке NBA1983-1996.\n",
    "\n",
    "\n",
    "for file in glob.glob('D:/KAGGLE/Datasets/NBA_1947_2024/NBA/boxscores_by_year/NBA1983_1996/*_basic.csv'):  \n",
    "    \n",
    "    my_df = pd.read_csv(file, engine='python')             # ЧИТАЕМ\n",
    "    filename = file[77] + file[78] + file[79] + file[80]   # СОЗДАЕМ ПЕРЕМЕННУЮ НАЗВАНИЕ ГОДА ОКОНЧАНИЯ СЕЗОНА\n",
    "    oppo = my_df.groupby('Game Reference').sum()           # СУММИРУЕМ ОЧКИ С ГРУППИРОВКОЙ ПО КАЖДОМУ МАТЧУ\n",
    "    oppo2 = oppo['PTS'].mean()                             # ИЩЕМ СРЕДНЕЕ ПО СЕЗОНУ\n",
    "    total_df.loc[len(total_df.index)] = [filename, oppo2]  # СОХРАНЯЕМ В ДФ\n"
   ]
  },
  {
   "cell_type": "code",
   "execution_count": 194,
   "id": "e448c1bd",
   "metadata": {},
   "outputs": [],
   "source": [
    "# НАЙДЕМ СРЕДНЕЕ КОЛИЧЕСТВО ОЧКОВ ДЛЯ ФАЙЛОВ в папке NBA1997-2024.\n",
    "\n",
    "\n",
    "for file in glob.glob('D:/KAGGLE/Datasets/NBA_1947_2024/NBA/boxscores_by_year/NBA1997_2023/*_basic.csv'):  \n",
    "    \n",
    "    my_df = pd.read_csv(file, engine='python')              # ЧИТАЕМ\n",
    "    filename = file[77] + file[78] + file[79] + file[80]    # СОЗДАЕМ ПЕРЕМЕННУЮ НАЗВАНИЕ ГОДА ОКОНЧАНИЯ СЕЗОНА\n",
    "    oppo = my_df.groupby('Game Reference').sum()            # СУММИРУЕМ ОЧКИ ПО КАЖДОМУ МАТЧУ\n",
    "    oppo2 = oppo['PTS'].mean() / 3                          # ИЩЕМ СРЕДНЕЕ ПО СЕЗОНУ\n",
    "   \n",
    "    total_df.loc[len(total_df.index)] = [filename, oppo2]   # ЗАПИСЫВАЕМ В ДФ\n"
   ]
  },
  {
   "cell_type": "code",
   "execution_count": 198,
   "id": "d052a6b0",
   "metadata": {},
   "outputs": [],
   "source": [
    "# ИЗМЕНИМ СТРОКОВЫЙ ТИП СТОЛБЦА \"YEAR\" НА ЦЕЛОЧИСЛЕННЫЙ\n",
    "total_df['Year'] = total_df['Year'].astype(int) "
   ]
  },
  {
   "cell_type": "code",
   "execution_count": 199,
   "id": "08c38c82",
   "metadata": {},
   "outputs": [],
   "source": [
    "total_df.to_csv(\"NBA_PTS_total_1947_2023.csv\")  # СОХРАНЯЕМ В ФАЙЛ"
   ]
  }
 ],
 "metadata": {
  "kernelspec": {
   "display_name": "Python 3 (ipykernel)",
   "language": "python",
   "name": "python3"
  },
  "language_info": {
   "codemirror_mode": {
    "name": "ipython",
    "version": 3
   },
   "file_extension": ".py",
   "mimetype": "text/x-python",
   "name": "python",
   "nbconvert_exporter": "python",
   "pygments_lexer": "ipython3",
   "version": "3.11.5"
  }
 },
 "nbformat": 4,
 "nbformat_minor": 5
}
